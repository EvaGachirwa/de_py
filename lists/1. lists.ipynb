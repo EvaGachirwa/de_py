{
 "cells": [
  {
   "cell_type": "markdown",
   "id": "increasing-indicator",
   "metadata": {},
   "source": [
    "# Lists\n",
    "Lists store multiple items in one variable. <br />\n",
    "Any data type can be added in a list"
   ]
  },
  {
   "cell_type": "code",
   "execution_count": 1,
   "id": "artificial-round",
   "metadata": {},
   "outputs": [
    {
     "name": "stdout",
     "output_type": "stream",
     "text": [
      "['a', 'b', 'c', 'd', 'e', 'f', 'g', 'h', 'i', 'j', 'k', 'l', 'm', 'n', 'o', 'p', 'q', 'r', 's', 't', 'u', 'v', 'w', 'x', 'y', 'z']\n"
     ]
    }
   ],
   "source": [
    "import string\n",
    "alphabet_string = string. ascii_lowercase\n",
    "print(list(alphabet_string))"
   ]
  },
  {
   "cell_type": "markdown",
   "id": "sticky-bacteria",
   "metadata": {},
   "source": [
    "## Example of Lists"
   ]
  },
  {
   "cell_type": "code",
   "execution_count": 2,
   "id": "necessary-panel",
   "metadata": {},
   "outputs": [],
   "source": [
    "a = ['a', 'b', 'c', 'd', 'e', 'f', 'g', 'h' ]"
   ]
  },
  {
   "cell_type": "code",
   "execution_count": 3,
   "id": "handmade-figure",
   "metadata": {},
   "outputs": [],
   "source": [
    "b = ['a', 'b', 'c', 1, 2, ['d', 'e', 'f']]"
   ]
  },
  {
   "cell_type": "code",
   "execution_count": 4,
   "id": "authorized-province",
   "metadata": {},
   "outputs": [],
   "source": [
    "c = ['red', 'x', 300]"
   ]
  },
  {
   "cell_type": "markdown",
   "id": "mexican-dublin",
   "metadata": {},
   "source": [
    "## Accessing items in a list\n",
    "\n",
    "List items are indexed and you can access them by referring to the index number <br />\n",
    "List indexes in python start at Zero"
   ]
  },
  {
   "cell_type": "code",
   "execution_count": 6,
   "id": "negative-award",
   "metadata": {},
   "outputs": [
    {
     "data": {
      "text/plain": [
       "'a'"
      ]
     },
     "execution_count": 6,
     "metadata": {},
     "output_type": "execute_result"
    }
   ],
   "source": [
    "a[0]"
   ]
  },
  {
   "cell_type": "code",
   "execution_count": 7,
   "id": "frozen-cancellation",
   "metadata": {},
   "outputs": [
    {
     "data": {
      "text/plain": [
       "'b'"
      ]
     },
     "execution_count": 7,
     "metadata": {},
     "output_type": "execute_result"
    }
   ],
   "source": [
    "a[1]"
   ]
  },
  {
   "cell_type": "markdown",
   "id": "greater-traffic",
   "metadata": {},
   "source": [
    "### Using negative offsets relative to the end of the list\n",
    "\n",
    "Negative indexing means start from the end"
   ]
  },
  {
   "cell_type": "code",
   "execution_count": 10,
   "id": "sized-appliance",
   "metadata": {},
   "outputs": [
    {
     "data": {
      "text/plain": [
       "['a', 'b', 'c', 'd', 'e', 'f', 'g', 'h']"
      ]
     },
     "execution_count": 10,
     "metadata": {},
     "output_type": "execute_result"
    }
   ],
   "source": [
    "a"
   ]
  },
  {
   "cell_type": "code",
   "execution_count": 11,
   "id": "aquatic-asbestos",
   "metadata": {},
   "outputs": [
    {
     "data": {
      "text/plain": [
       "'h'"
      ]
     },
     "execution_count": 11,
     "metadata": {},
     "output_type": "execute_result"
    }
   ],
   "source": [
    "a[-1]"
   ]
  },
  {
   "cell_type": "code",
   "execution_count": 12,
   "id": "clinical-trunk",
   "metadata": {},
   "outputs": [
    {
     "data": {
      "text/plain": [
       "'g'"
      ]
     },
     "execution_count": 12,
     "metadata": {},
     "output_type": "execute_result"
    }
   ],
   "source": [
    "a[-2]"
   ]
  },
  {
   "cell_type": "markdown",
   "id": "logical-hungarian",
   "metadata": {},
   "source": [
    "### Slicing\n",
    "\n",
    "You can specify a range of indexes by specifying where to start and where to end the range. <br />\n",
    "\n",
    "When specifying a range, the return value will be a new list with the specified items."
   ]
  },
  {
   "cell_type": "code",
   "execution_count": 15,
   "id": "saving-input",
   "metadata": {},
   "outputs": [
    {
     "data": {
      "text/plain": [
       "['a', 'b', 'c', 'd', 'e', 'f', 'g', 'h']"
      ]
     },
     "execution_count": 15,
     "metadata": {},
     "output_type": "execute_result"
    }
   ],
   "source": [
    "a"
   ]
  },
  {
   "cell_type": "code",
   "execution_count": 13,
   "id": "greater-hammer",
   "metadata": {},
   "outputs": [
    {
     "data": {
      "text/plain": [
       "['d', 'e']"
      ]
     },
     "execution_count": 13,
     "metadata": {},
     "output_type": "execute_result"
    }
   ],
   "source": [
    "a[3:5]"
   ]
  },
  {
   "cell_type": "code",
   "execution_count": 14,
   "id": "rural-cleaner",
   "metadata": {},
   "outputs": [
    {
     "data": {
      "text/plain": [
       "['b', 'c', 'd', 'e', 'f', 'g']"
      ]
     },
     "execution_count": 14,
     "metadata": {},
     "output_type": "execute_result"
    }
   ],
   "source": [
    "a[1:7]"
   ]
  },
  {
   "cell_type": "code",
   "execution_count": 14,
   "id": "subtle-amazon",
   "metadata": {},
   "outputs": [
    {
     "data": {
      "text/plain": [
       "['a', 'b', 'c', 'd', 'e']"
      ]
     },
     "execution_count": 14,
     "metadata": {},
     "output_type": "execute_result"
    }
   ],
   "source": [
    "a[:5] "
   ]
  },
  {
   "cell_type": "code",
   "execution_count": 16,
   "id": "arranged-vancouver",
   "metadata": {},
   "outputs": [
    {
     "data": {
      "text/plain": [
       "['a', 'b', 'c', 'd', 'e']"
      ]
     },
     "execution_count": 16,
     "metadata": {},
     "output_type": "execute_result"
    }
   ],
   "source": [
    "a[0:5]"
   ]
  },
  {
   "cell_type": "code",
   "execution_count": 17,
   "id": "flying-dayton",
   "metadata": {},
   "outputs": [
    {
     "data": {
      "text/plain": [
       "['a', 'b', 'c', 'd', 'e', 'f', 'g', 'h']"
      ]
     },
     "execution_count": 17,
     "metadata": {},
     "output_type": "execute_result"
    }
   ],
   "source": [
    "a[:20]"
   ]
  },
  {
   "cell_type": "code",
   "execution_count": 18,
   "id": "parental-mouse",
   "metadata": {},
   "outputs": [
    {
     "data": {
      "text/plain": [
       "[]"
      ]
     },
     "execution_count": 18,
     "metadata": {},
     "output_type": "execute_result"
    }
   ],
   "source": [
    "a[20:]"
   ]
  },
  {
   "cell_type": "code",
   "execution_count": 19,
   "id": "smart-uzbekistan",
   "metadata": {},
   "outputs": [
    {
     "data": {
      "text/plain": [
       "['a', 'b', 'c', 'd', 'e', 'f', 'g', 'h']"
      ]
     },
     "execution_count": 19,
     "metadata": {},
     "output_type": "execute_result"
    }
   ],
   "source": [
    "a[-20:]"
   ]
  },
  {
   "cell_type": "markdown",
   "id": "boxed-renaissance",
   "metadata": {},
   "source": [
    "### Out of range"
   ]
  },
  {
   "cell_type": "code",
   "execution_count": 20,
   "id": "prescription-lawsuit",
   "metadata": {},
   "outputs": [
    {
     "ename": "IndexError",
     "evalue": "list index out of range",
     "output_type": "error",
     "traceback": [
      "\u001b[0;31m---------------------------------------------------------------------------\u001b[0m",
      "\u001b[0;31mIndexError\u001b[0m                                Traceback (most recent call last)",
      "\u001b[0;32m<ipython-input-20-2ba6acdce15e>\u001b[0m in \u001b[0;36m<module>\u001b[0;34m\u001b[0m\n\u001b[0;32m----> 1\u001b[0;31m \u001b[0ma\u001b[0m\u001b[0;34m[\u001b[0m\u001b[0;36m20\u001b[0m\u001b[0;34m]\u001b[0m\u001b[0;34m\u001b[0m\u001b[0;34m\u001b[0m\u001b[0m\n\u001b[0m",
      "\u001b[0;31mIndexError\u001b[0m: list index out of range"
     ]
    }
   ],
   "source": [
    "a[20]"
   ]
  },
  {
   "cell_type": "markdown",
   "id": "restricted-evaluation",
   "metadata": {},
   "source": [
    "## Striding\n",
    "SomeList[start:end:stride]"
   ]
  },
  {
   "cell_type": "code",
   "execution_count": 21,
   "id": "checked-personality",
   "metadata": {},
   "outputs": [],
   "source": [
    "x=['red', 'orange', 'yellow', 'green', 'blue', 'purple']"
   ]
  },
  {
   "cell_type": "markdown",
   "id": "handy-medicare",
   "metadata": {},
   "source": [
    "### Odd"
   ]
  },
  {
   "cell_type": "code",
   "execution_count": 22,
   "id": "reduced-rogers",
   "metadata": {},
   "outputs": [
    {
     "name": "stdout",
     "output_type": "stream",
     "text": [
      "['red', 'yellow', 'blue']\n"
     ]
    }
   ],
   "source": [
    "odds = x[::2]\n",
    "print(odds)"
   ]
  },
  {
   "cell_type": "code",
   "execution_count": 23,
   "id": "animal-hammer",
   "metadata": {},
   "outputs": [
    {
     "name": "stdout",
     "output_type": "stream",
     "text": [
      "['orange', 'green', 'purple']\n"
     ]
    }
   ],
   "source": [
    "evens = x[1::2]\n",
    "print(evens)"
   ]
  },
  {
   "cell_type": "markdown",
   "id": "inner-egypt",
   "metadata": {},
   "source": [
    "Beyond scope"
   ]
  },
  {
   "cell_type": "code",
   "execution_count": 24,
   "id": "blessed-baseball",
   "metadata": {},
   "outputs": [
    {
     "data": {
      "text/plain": [
       "[20, 19, 15, 9, 8, 7, 6, 4, 1, 0]"
      ]
     },
     "execution_count": 24,
     "metadata": {},
     "output_type": "execute_result"
    }
   ],
   "source": [
    "car_ages = [0,9,4,8,7,20,19,1,6,15]\n",
    "car_ages_descending = sorted(car_ages, reverse=True)\n",
    "car_ages_descending"
   ]
  },
  {
   "cell_type": "code",
   "execution_count": 25,
   "id": "digital-heather",
   "metadata": {},
   "outputs": [
    {
     "name": "stdout",
     "output_type": "stream",
     "text": [
      "20 19 15 9 8 7 6 4 1 0\n"
     ]
    }
   ],
   "source": [
    "oldest, second_oldest, *others = car_ages_descending\n",
    "print(oldest, second_oldest, *others)"
   ]
  }
 ],
 "metadata": {
  "kernelspec": {
   "display_name": "Python 3",
   "language": "python",
   "name": "python3"
  },
  "language_info": {
   "codemirror_mode": {
    "name": "ipython",
    "version": 3
   },
   "file_extension": ".py",
   "mimetype": "text/x-python",
   "name": "python",
   "nbconvert_exporter": "python",
   "pygments_lexer": "ipython3",
   "version": "3.8.0"
  }
 },
 "nbformat": 4,
 "nbformat_minor": 5
}
