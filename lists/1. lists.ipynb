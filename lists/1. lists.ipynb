{
 "cells": [
  {
   "cell_type": "markdown",
   "id": "increasing-indicator",
   "metadata": {},
   "source": [
    "# Lists\n",
    "Lists store multiple items in one variable. <br />\n",
    "Any data type can be added in a list"
   ]
  },
  {
   "cell_type": "code",
   "execution_count": 1,
   "id": "artificial-round",
   "metadata": {},
   "outputs": [
    {
     "name": "stdout",
     "output_type": "stream",
     "text": [
      "['a', 'b', 'c', 'd', 'e', 'f', 'g', 'h', 'i', 'j', 'k', 'l', 'm', 'n', 'o', 'p', 'q', 'r', 's', 't', 'u', 'v', 'w', 'x', 'y', 'z']\n"
     ]
    }
   ],
   "source": [
    "import string\n",
    "alphabet_string = string. ascii_lowercase\n",
    "print(list(alphabet_string))"
   ]
  },
  {
   "cell_type": "markdown",
   "id": "sticky-bacteria",
   "metadata": {},
   "source": [
    "## Example of Lists"
   ]
  },
  {
   "cell_type": "code",
   "execution_count": 2,
   "id": "necessary-panel",
   "metadata": {},
   "outputs": [],
   "source": [
    "a = ['a', 'b', 'c', 'd', 'e', 'f', 'g', 'h' ]"
   ]
  },
  {
   "cell_type": "code",
   "execution_count": 3,
   "id": "handmade-figure",
   "metadata": {},
   "outputs": [],
   "source": [
    "b = ['a', 'b', 'c', 1, 2, ['d', 'e', 'f']]"
   ]
  },
  {
   "cell_type": "code",
   "execution_count": 4,
   "id": "authorized-province",
   "metadata": {},
   "outputs": [],
   "source": [
    "c = ['red', 'x', 300]"
   ]
  },
  {
   "cell_type": "markdown",
   "id": "mexican-dublin",
   "metadata": {},
   "source": [
    "## Accessing items in a list\n",
    "\n",
    "List items are indexed and you can access them by referring to the index number <br />\n",
    "List indexes in python start at Zero"
   ]
  },
  {
   "cell_type": "code",
   "execution_count": 5,
   "id": "negative-award",
   "metadata": {},
   "outputs": [
    {
     "data": {
      "text/plain": [
       "'a'"
      ]
     },
     "execution_count": 5,
     "metadata": {},
     "output_type": "execute_result"
    }
   ],
   "source": [
    "a[0]"
   ]
  },
  {
   "cell_type": "code",
   "execution_count": 6,
   "id": "frozen-cancellation",
   "metadata": {},
   "outputs": [
    {
     "data": {
      "text/plain": [
       "'b'"
      ]
     },
     "execution_count": 6,
     "metadata": {},
     "output_type": "execute_result"
    }
   ],
   "source": [
    "a[1]"
   ]
  },
  {
   "cell_type": "markdown",
   "id": "greater-traffic",
   "metadata": {},
   "source": [
    "### Using negative offsets relative to the end of the list\n",
    "\n",
    "Negative indexing means start from the end"
   ]
  },
  {
   "cell_type": "code",
   "execution_count": 7,
   "id": "sized-appliance",
   "metadata": {},
   "outputs": [
    {
     "data": {
      "text/plain": [
       "['a', 'b', 'c', 'd', 'e', 'f', 'g', 'h']"
      ]
     },
     "execution_count": 7,
     "metadata": {},
     "output_type": "execute_result"
    }
   ],
   "source": [
    "a"
   ]
  },
  {
   "cell_type": "code",
   "execution_count": 8,
   "id": "aquatic-asbestos",
   "metadata": {},
   "outputs": [
    {
     "data": {
      "text/plain": [
       "'h'"
      ]
     },
     "execution_count": 8,
     "metadata": {},
     "output_type": "execute_result"
    }
   ],
   "source": [
    "a[-1]"
   ]
  },
  {
   "cell_type": "code",
   "execution_count": 9,
   "id": "clinical-trunk",
   "metadata": {},
   "outputs": [
    {
     "data": {
      "text/plain": [
       "'g'"
      ]
     },
     "execution_count": 9,
     "metadata": {},
     "output_type": "execute_result"
    }
   ],
   "source": [
    "a[-2]"
   ]
  },
  {
   "cell_type": "markdown",
   "id": "logical-hungarian",
   "metadata": {},
   "source": [
    "### Slicing\n",
    "\n",
    "You can specify a range of indexes by specifying where to start and where to end the range. <br />\n",
    "\n",
    "When specifying a range, the return value will be a new list with the specified items."
   ]
  },
  {
   "cell_type": "code",
   "execution_count": 10,
   "id": "saving-input",
   "metadata": {},
   "outputs": [
    {
     "data": {
      "text/plain": [
       "['a', 'b', 'c', 'd', 'e', 'f', 'g', 'h']"
      ]
     },
     "execution_count": 10,
     "metadata": {},
     "output_type": "execute_result"
    }
   ],
   "source": [
    "a"
   ]
  },
  {
   "cell_type": "code",
   "execution_count": 11,
   "id": "greater-hammer",
   "metadata": {},
   "outputs": [
    {
     "data": {
      "text/plain": [
       "['d', 'e']"
      ]
     },
     "execution_count": 11,
     "metadata": {},
     "output_type": "execute_result"
    }
   ],
   "source": [
    "a[3:5]"
   ]
  },
  {
   "cell_type": "code",
   "execution_count": 12,
   "id": "rural-cleaner",
   "metadata": {},
   "outputs": [
    {
     "data": {
      "text/plain": [
       "['b', 'c', 'd', 'e', 'f', 'g']"
      ]
     },
     "execution_count": 12,
     "metadata": {},
     "output_type": "execute_result"
    }
   ],
   "source": [
    "a[1:7]"
   ]
  },
  {
   "cell_type": "code",
   "execution_count": 13,
   "id": "subtle-amazon",
   "metadata": {},
   "outputs": [
    {
     "data": {
      "text/plain": [
       "['a', 'b', 'c', 'd', 'e']"
      ]
     },
     "execution_count": 13,
     "metadata": {},
     "output_type": "execute_result"
    }
   ],
   "source": [
    "a[:5] "
   ]
  },
  {
   "cell_type": "code",
   "execution_count": 14,
   "id": "arranged-vancouver",
   "metadata": {},
   "outputs": [
    {
     "data": {
      "text/plain": [
       "['a', 'b', 'c', 'd', 'e']"
      ]
     },
     "execution_count": 14,
     "metadata": {},
     "output_type": "execute_result"
    }
   ],
   "source": [
    "a[0:5]"
   ]
  },
  {
   "cell_type": "code",
   "execution_count": 15,
   "id": "flying-dayton",
   "metadata": {},
   "outputs": [
    {
     "data": {
      "text/plain": [
       "['a', 'b', 'c', 'd', 'e', 'f', 'g', 'h']"
      ]
     },
     "execution_count": 15,
     "metadata": {},
     "output_type": "execute_result"
    }
   ],
   "source": [
    "a[:20]"
   ]
  },
  {
   "cell_type": "code",
   "execution_count": 16,
   "id": "parental-mouse",
   "metadata": {},
   "outputs": [
    {
     "data": {
      "text/plain": [
       "[]"
      ]
     },
     "execution_count": 16,
     "metadata": {},
     "output_type": "execute_result"
    }
   ],
   "source": [
    "a[20:]"
   ]
  },
  {
   "cell_type": "code",
   "execution_count": 17,
   "id": "smart-uzbekistan",
   "metadata": {},
   "outputs": [
    {
     "data": {
      "text/plain": [
       "['a', 'b', 'c', 'd', 'e', 'f', 'g', 'h']"
      ]
     },
     "execution_count": 17,
     "metadata": {},
     "output_type": "execute_result"
    }
   ],
   "source": [
    "a[-20:]"
   ]
  },
  {
   "cell_type": "markdown",
   "id": "boxed-renaissance",
   "metadata": {},
   "source": [
    "### Out of range"
   ]
  },
  {
   "cell_type": "code",
   "execution_count": 18,
   "id": "prescription-lawsuit",
   "metadata": {},
   "outputs": [
    {
     "ename": "IndexError",
     "evalue": "list index out of range",
     "output_type": "error",
     "traceback": [
      "\u001b[0;31m---------------------------------------------------------------------------\u001b[0m",
      "\u001b[0;31mIndexError\u001b[0m                                Traceback (most recent call last)",
      "\u001b[0;32m<ipython-input-18-2ba6acdce15e>\u001b[0m in \u001b[0;36m<module>\u001b[0;34m\u001b[0m\n\u001b[0;32m----> 1\u001b[0;31m \u001b[0ma\u001b[0m\u001b[0;34m[\u001b[0m\u001b[0;36m20\u001b[0m\u001b[0;34m]\u001b[0m\u001b[0;34m\u001b[0m\u001b[0;34m\u001b[0m\u001b[0m\n\u001b[0m",
      "\u001b[0;31mIndexError\u001b[0m: list index out of range"
     ]
    }
   ],
   "source": [
    "a[20]"
   ]
  },
  {
   "cell_type": "markdown",
   "id": "restricted-evaluation",
   "metadata": {},
   "source": [
    "## Striding\n",
    "SomeList[start:end:stride]"
   ]
  },
  {
   "cell_type": "code",
   "execution_count": 19,
   "id": "checked-personality",
   "metadata": {},
   "outputs": [],
   "source": [
    "x=['red', 'orange', 'yellow', 'green', 'blue', 'purple']"
   ]
  },
  {
   "cell_type": "markdown",
   "id": "handy-medicare",
   "metadata": {},
   "source": [
    "### Odd"
   ]
  },
  {
   "cell_type": "code",
   "execution_count": 20,
   "id": "reduced-rogers",
   "metadata": {},
   "outputs": [
    {
     "name": "stdout",
     "output_type": "stream",
     "text": [
      "['red', 'yellow', 'blue']\n"
     ]
    }
   ],
   "source": [
    "odds = x[::2]\n",
    "print(odds)"
   ]
  },
  {
   "cell_type": "code",
   "execution_count": 21,
   "id": "animal-hammer",
   "metadata": {},
   "outputs": [
    {
     "name": "stdout",
     "output_type": "stream",
     "text": [
      "['orange', 'green', 'purple']\n"
     ]
    }
   ],
   "source": [
    "evens = x[1::2]\n",
    "print(evens)"
   ]
  },
  {
   "cell_type": "markdown",
   "id": "physical-arnold",
   "metadata": {},
   "source": [
    "## Changing items in a list"
   ]
  },
  {
   "cell_type": "code",
   "execution_count": 22,
   "id": "crucial-symphony",
   "metadata": {},
   "outputs": [
    {
     "data": {
      "text/plain": [
       "['red', 'orange', 'yellow', 'green', 'blue', 'purple']"
      ]
     },
     "execution_count": 22,
     "metadata": {},
     "output_type": "execute_result"
    }
   ],
   "source": [
    "x"
   ]
  },
  {
   "cell_type": "code",
   "execution_count": 23,
   "id": "pressed-pregnancy",
   "metadata": {},
   "outputs": [
    {
     "data": {
      "text/plain": [
       "'orange'"
      ]
     },
     "execution_count": 23,
     "metadata": {},
     "output_type": "execute_result"
    }
   ],
   "source": [
    "x[1]"
   ]
  },
  {
   "cell_type": "code",
   "execution_count": 24,
   "id": "aquatic-republic",
   "metadata": {},
   "outputs": [],
   "source": [
    "x[1] = 'Violet'"
   ]
  },
  {
   "cell_type": "code",
   "execution_count": 25,
   "id": "extraordinary-samuel",
   "metadata": {},
   "outputs": [
    {
     "data": {
      "text/plain": [
       "['red', 'Violet', 'yellow', 'green', 'blue', 'purple']"
      ]
     },
     "execution_count": 25,
     "metadata": {},
     "output_type": "execute_result"
    }
   ],
   "source": [
    "x"
   ]
  },
  {
   "cell_type": "markdown",
   "id": "instructional-finance",
   "metadata": {},
   "source": [
    "## Adding items to the list"
   ]
  },
  {
   "cell_type": "code",
   "execution_count": 26,
   "id": "parliamentary-anderson",
   "metadata": {},
   "outputs": [],
   "source": [
    "x.append(\"orange\")"
   ]
  },
  {
   "cell_type": "code",
   "execution_count": 27,
   "id": "finished-austria",
   "metadata": {},
   "outputs": [
    {
     "data": {
      "text/plain": [
       "['red', 'Violet', 'yellow', 'green', 'blue', 'purple', 'orange']"
      ]
     },
     "execution_count": 27,
     "metadata": {},
     "output_type": "execute_result"
    }
   ],
   "source": [
    "x"
   ]
  },
  {
   "cell_type": "code",
   "execution_count": 28,
   "id": "minor-venice",
   "metadata": {},
   "outputs": [],
   "source": [
    "x.insert(3, 'indigo')"
   ]
  },
  {
   "cell_type": "code",
   "execution_count": 29,
   "id": "inclusive-madrid",
   "metadata": {},
   "outputs": [
    {
     "data": {
      "text/plain": [
       "['red', 'Violet', 'yellow', 'indigo', 'green', 'blue', 'purple', 'orange']"
      ]
     },
     "execution_count": 29,
     "metadata": {},
     "output_type": "execute_result"
    }
   ],
   "source": [
    "x"
   ]
  },
  {
   "cell_type": "code",
   "execution_count": 30,
   "id": "absolute-virtue",
   "metadata": {},
   "outputs": [],
   "source": [
    "extended_colors = ['maroon', 'teal', 'silver']"
   ]
  },
  {
   "cell_type": "code",
   "execution_count": 31,
   "id": "superior-worry",
   "metadata": {},
   "outputs": [],
   "source": [
    "x.extend(extended_colors)"
   ]
  },
  {
   "cell_type": "code",
   "execution_count": 33,
   "id": "vietnamese-lounge",
   "metadata": {},
   "outputs": [
    {
     "name": "stdout",
     "output_type": "stream",
     "text": [
      "['red', 'Violet', 'yellow', 'indigo', 'green', 'blue', 'purple', 'orange', 'maroon', 'teal', 'silver']\n"
     ]
    }
   ],
   "source": [
    "print(x)"
   ]
  },
  {
   "cell_type": "markdown",
   "id": "studied-anthony",
   "metadata": {},
   "source": [
    "## Removing items from lists"
   ]
  },
  {
   "cell_type": "code",
   "execution_count": 34,
   "id": "hazardous-vietnamese",
   "metadata": {},
   "outputs": [],
   "source": [
    "x.remove(\"orange\")"
   ]
  },
  {
   "cell_type": "code",
   "execution_count": 36,
   "id": "european-parameter",
   "metadata": {},
   "outputs": [
    {
     "name": "stdout",
     "output_type": "stream",
     "text": [
      "['red', 'Violet', 'yellow', 'indigo', 'green', 'blue', 'purple', 'maroon', 'teal', 'silver']\n"
     ]
    }
   ],
   "source": [
    "print(x)"
   ]
  },
  {
   "cell_type": "code",
   "execution_count": 37,
   "id": "express-prompt",
   "metadata": {},
   "outputs": [
    {
     "data": {
      "text/plain": [
       "'yellow'"
      ]
     },
     "execution_count": 37,
     "metadata": {},
     "output_type": "execute_result"
    }
   ],
   "source": [
    "x.pop(2)"
   ]
  },
  {
   "cell_type": "code",
   "execution_count": 39,
   "id": "modular-prefix",
   "metadata": {},
   "outputs": [
    {
     "name": "stdout",
     "output_type": "stream",
     "text": [
      "['red', 'Violet', 'indigo', 'green', 'blue', 'purple', 'maroon', 'teal', 'silver']\n"
     ]
    }
   ],
   "source": [
    "print(x)"
   ]
  },
  {
   "cell_type": "code",
   "execution_count": 40,
   "id": "posted-harbor",
   "metadata": {},
   "outputs": [],
   "source": [
    "del x[0]"
   ]
  },
  {
   "cell_type": "code",
   "execution_count": 41,
   "id": "driving-franchise",
   "metadata": {},
   "outputs": [
    {
     "name": "stdout",
     "output_type": "stream",
     "text": [
      "['Violet', 'indigo', 'green', 'blue', 'purple', 'maroon', 'teal', 'silver']\n"
     ]
    }
   ],
   "source": [
    "print(x)"
   ]
  },
  {
   "cell_type": "code",
   "execution_count": 43,
   "id": "sublime-productivity",
   "metadata": {},
   "outputs": [],
   "source": [
    "x.clear()"
   ]
  },
  {
   "cell_type": "code",
   "execution_count": 44,
   "id": "distinct-chart",
   "metadata": {},
   "outputs": [
    {
     "data": {
      "text/plain": [
       "[]"
      ]
     },
     "execution_count": 44,
     "metadata": {},
     "output_type": "execute_result"
    }
   ],
   "source": [
    "x"
   ]
  },
  {
   "cell_type": "code",
   "execution_count": null,
   "id": "authorized-vegetation",
   "metadata": {},
   "outputs": [],
   "source": [
    "Looping "
   ]
  },
  {
   "cell_type": "markdown",
   "id": "inner-egypt",
   "metadata": {},
   "source": [
    "## Beyond scope"
   ]
  },
  {
   "cell_type": "code",
   "execution_count": 24,
   "id": "blessed-baseball",
   "metadata": {},
   "outputs": [
    {
     "data": {
      "text/plain": [
       "[20, 19, 15, 9, 8, 7, 6, 4, 1, 0]"
      ]
     },
     "execution_count": 24,
     "metadata": {},
     "output_type": "execute_result"
    }
   ],
   "source": [
    "car_ages = [0,9,4,8,7,20,19,1,6,15]\n",
    "car_ages_descending = sorted(car_ages, reverse=True)\n",
    "car_ages_descending"
   ]
  },
  {
   "cell_type": "code",
   "execution_count": 25,
   "id": "digital-heather",
   "metadata": {},
   "outputs": [
    {
     "name": "stdout",
     "output_type": "stream",
     "text": [
      "20 19 15 9 8 7 6 4 1 0\n"
     ]
    }
   ],
   "source": [
    "oldest, second_oldest, *others = car_ages_descending\n",
    "print(oldest, second_oldest, *others)"
   ]
  }
 ],
 "metadata": {
  "kernelspec": {
   "display_name": "Python 3",
   "language": "python",
   "name": "python3"
  },
  "language_info": {
   "codemirror_mode": {
    "name": "ipython",
    "version": 3
   },
   "file_extension": ".py",
   "mimetype": "text/x-python",
   "name": "python",
   "nbconvert_exporter": "python",
   "pygments_lexer": "ipython3",
   "version": "3.8.0"
  }
 },
 "nbformat": 4,
 "nbformat_minor": 5
}
